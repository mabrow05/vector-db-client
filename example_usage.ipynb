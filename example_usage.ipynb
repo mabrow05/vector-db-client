{
 "cells": [
  {
   "cell_type": "markdown",
   "metadata": {},
   "source": [
    "# Semantic Search Service Example\n",
    "\n",
    "This notebook demonstrates how to use the semantic search service with Qdrant. Make sure you have:\n",
    "1. Started the Qdrant service using `docker-compose up -d`\n",
    "2. Started the FastAPI application using `python main.py`"
   ]
  },
  {
   "cell_type": "code",
   "execution_count": null,
   "metadata": {},
   "outputs": [],
   "source": [
    "import requests\n",
    "import json\n",
    "from pprint import pprint"
   ]
  },
  {
   "cell_type": "markdown",
   "metadata": {},
   "source": [
    "## 1. Adding Text Chunks\n",
    "\n",
    "Let's add some sample text chunks about different topics."
   ]
  },
  {
   "cell_type": "code",
   "execution_count": null,
   "metadata": {},
   "outputs": [],
   "source": [
    "def add_chunk(text, metadata=None):\n",
    "    response = requests.post(\n",
    "        \"http://localhost:8000/add_chunk\",\n",
    "        json={\"text\": text, \"metadata\": metadata}\n",
    "    )\n",
    "    return response.json()\n",
    "\n",
    "# Sample text chunks\n",
    "chunks = [\n",
    "    {\n",
    "        \"text\": \"Python is a high-level programming language known for its simplicity and readability. It supports multiple programming paradigms including procedural, object-oriented, and functional programming.\",\n",
    "        \"metadata\": {\"topic\": \"programming\", \"language\": \"python\"}\n",
    "    },\n",
    "    {\n",
    "        \"text\": \"Machine learning is a subset of artificial intelligence that focuses on developing systems that can learn from and make decisions based on data.\",\n",
    "        \"metadata\": {\"topic\": \"AI\", \"field\": \"machine learning\"}\n",
    "    },\n",
    "    {\n",
    "        \"text\": \"Docker is a platform for developing, shipping, and running applications in containers. It enables you to separate your applications from your infrastructure.\",\n",
    "        \"metadata\": {\"topic\": \"devops\", \"tool\": \"docker\"}\n",
    "    },\n",
    "    {\n",
    "        \"text\": \"FastAPI is a modern, fast web framework for building APIs with Python based on standard Python type hints. It's one of the fastest Python frameworks available.\",\n",
    "        \"metadata\": {\"topic\": \"web development\", \"framework\": \"fastapi\"}\n",
    "    },\n",
    "    {\n",
    "        \"text\": \"Vector databases are specialized databases designed to store and query high-dimensional vectors efficiently. They're commonly used in semantic search and AI applications.\",\n",
    "        \"metadata\": {\"topic\": \"databases\", \"type\": \"vector database\"}\n",
    "    }\n",
    "]\n",
    "\n",
    "# Add all chunks\n",
    "for chunk in chunks:\n",
    "    result = add_chunk(chunk[\"text\"], chunk[\"metadata\"])\n",
    "    print(f\"Added chunk about {chunk['metadata']['topic']}: {result['status']}\")"
   ]
  },
  {
   "cell_type": "markdown",
   "metadata": {},
   "source": [
    "## 2. Performing Searches\n",
    "\n",
    "Now let's try some semantic searches with different queries."
   ]
  },
  {
   "cell_type": "code",
   "execution_count": null,
   "metadata": {},
   "outputs": [],
   "source": [
    "def search(query, limit=5):\n",
    "    response = requests.post(\n",
    "        \"http://localhost:8000/search\",\n",
    "        json={\"query\": query, \"limit\": limit}\n",
    "    )\n",
    "    return response.json()\n",
    "\n",
    "# Example 1: Search for programming-related content\n",
    "print(\"Search: 'programming languages'\")\n",
    "results = search(\"programming languages\")\n",
    "pprint(results)\n",
    "\n",
    "print(\"\\nSearch: 'AI and machine learning'\")\n",
    "results = search(\"AI and machine learning\")\n",
    "pprint(results)\n",
    "\n",
    "print(\"\\nSearch: 'database systems'\")\n",
    "results = search(\"database systems\")\n",
    "pprint(results)"
   ]
  },
  {
   "cell_type": "markdown",
   "metadata": {},
   "source": [
    "## 3. Advanced Search with Metadata\n",
    "\n",
    "Let's examine the metadata in our search results to see how it can be used for filtering."
   ]
  },
  {
   "cell_type": "code",
   "execution_count": null,
   "metadata": {},
   "outputs": [],
   "source": [
    "# Search and analyze metadata\n",
    "def search_and_analyze(query):\n",
    "    results = search(query)\n",
    "    print(f\"\\nSearch results for: '{query}'\")\n",
    "    print(\"-\" * 50)\n",
    "    for idx, result in enumerate(results['results'], 1):\n",
    "        print(f\"\\nResult {idx} (Score: {result['score']:.4f}):\")\n",
    "        print(f\"Text: {result['text']}\")\n",
    "        print(f\"Metadata: {result['metadata']}\")\n",
    "\n",
    "# Try some semantic searches\n",
    "queries = [\n",
    "    \"What is Python?\",\n",
    "    \"Tell me about containers\",\n",
    "    \"How does AI work?\"\n",
    "]\n",
    "\n",
    "for query in queries:\n",
    "    search_and_analyze(query)"
   ]
  }
 ],
 "metadata": {
  "kernelspec": {
   "display_name": ".venv",
   "language": "python",
   "name": "python3"
  },
  "language_info": {
   "codemirror_mode": {
    "name": "ipython",
    "version": 3
   },
   "file_extension": ".py",
   "mimetype": "text/x-python",
   "name": "python",
   "nbconvert_exporter": "python",
   "pygments_lexer": "ipython3",
   "version": "3.9.6"
  }
 },
 "nbformat": 4,
 "nbformat_minor": 4
}
